{
 "cells": [
  {
   "cell_type": "markdown",
   "metadata": {},
   "source": [
    "### With data aggregation and data visualization answer the following questions:\n",
    "* What is the change in pct of divorced danes from 2008 to 2020?\n",
    "* Which of the 5 biggest cities has the highest percentage of 'Never Married'?\n",
    "* Show a bar chart of changes in marrital status in Copenhagen from 2008 till now\n",
    "* Show a bar chart of 'Married' and 'Never Married' for all ages in DK (Hint: 2 bars of different color)"
   ]
  },
  {
   "cell_type": "code",
   "execution_count": 2,
   "metadata": {},
   "outputs": [
    {
     "name": "stdout",
     "output_type": "stream",
     "text": [
      "2008: 31328\n",
      "2020: 36973\n",
      "change: 18.0 %\n"
     ]
    }
   ],
   "source": [
    "import pandas as pd\n",
    "import matplotlib.pyplot as plt\n",
    "import numpy as np\n",
    "# What is the change in pct of divorced danes from 2008 to 2020?\n",
    "df = pd.read_csv('https://api.statbank.dk/v1/data/FOLK1A/CSV?delimiter=Semicolon&OMR%C3%85DE=155%2C185%2C165%2C151%2C159%2C167%2C163%2C183%2C173%2C187&K%C3%98N=1%2C2%2CTOT&CIVILSTAND=TOT%2CU%2CG%2CF%2CE&Tid=2008K1%2C2020K1',delimiter=';')\n",
    "divorced_2008 = df.loc[(df['CIVILSTAND']=='Fraskilt') & (df['KØN']=='I alt') & (df['TID'] == '2008K1')]['INDHOLD'].sum()\n",
    "divorced_2020 = df.loc[(df['CIVILSTAND']=='Fraskilt') & (df['KØN']=='I alt') & (df['TID'] == '2020K1')]['INDHOLD'].sum()\n",
    "change_in_pct = round(((divorced_2020 - divorced_2008) / divorced_2008)*100)\n",
    "print('2008:', divorced_2008)\n",
    "print('2020:', divorced_2020)\n",
    "print('change:', change_in_pct,'%')"
   ]
  },
  {
   "cell_type": "code",
   "execution_count": 57,
   "metadata": {},
   "outputs": [
    {
     "data": {
      "text/html": [
       "<div>\n",
       "<style scoped>\n",
       "    .dataframe tbody tr th:only-of-type {\n",
       "        vertical-align: middle;\n",
       "    }\n",
       "\n",
       "    .dataframe tbody tr th {\n",
       "        vertical-align: top;\n",
       "    }\n",
       "\n",
       "    .dataframe thead th {\n",
       "        text-align: right;\n",
       "    }\n",
       "</style>\n",
       "<table border=\"1\" class=\"dataframe\">\n",
       "  <thead>\n",
       "    <tr style=\"text-align: right;\">\n",
       "      <th></th>\n",
       "      <th>OMRÅDE</th>\n",
       "      <th>KØN</th>\n",
       "      <th>CIVILSTAND</th>\n",
       "      <th>TID</th>\n",
       "      <th>INDHOLD</th>\n",
       "    </tr>\n",
       "  </thead>\n",
       "  <tbody>\n",
       "    <tr>\n",
       "      <td>0</td>\n",
       "      <td>Dragør</td>\n",
       "      <td>Mænd</td>\n",
       "      <td>I alt</td>\n",
       "      <td>2008K1</td>\n",
       "      <td>6475</td>\n",
       "    </tr>\n",
       "    <tr>\n",
       "      <td>1</td>\n",
       "      <td>Dragør</td>\n",
       "      <td>Mænd</td>\n",
       "      <td>I alt</td>\n",
       "      <td>2020K1</td>\n",
       "      <td>7122</td>\n",
       "    </tr>\n",
       "    <tr>\n",
       "      <td>2</td>\n",
       "      <td>Dragør</td>\n",
       "      <td>Mænd</td>\n",
       "      <td>Ugift</td>\n",
       "      <td>2008K1</td>\n",
       "      <td>2619</td>\n",
       "    </tr>\n",
       "    <tr>\n",
       "      <td>3</td>\n",
       "      <td>Dragør</td>\n",
       "      <td>Mænd</td>\n",
       "      <td>Ugift</td>\n",
       "      <td>2020K1</td>\n",
       "      <td>3097</td>\n",
       "    </tr>\n",
       "    <tr>\n",
       "      <td>4</td>\n",
       "      <td>Dragør</td>\n",
       "      <td>Mænd</td>\n",
       "      <td>Gift/separeret</td>\n",
       "      <td>2008K1</td>\n",
       "      <td>3269</td>\n",
       "    </tr>\n",
       "    <tr>\n",
       "      <td>...</td>\n",
       "      <td>...</td>\n",
       "      <td>...</td>\n",
       "      <td>...</td>\n",
       "      <td>...</td>\n",
       "      <td>...</td>\n",
       "    </tr>\n",
       "    <tr>\n",
       "      <td>295</td>\n",
       "      <td>Vallensbæk</td>\n",
       "      <td>I alt</td>\n",
       "      <td>Gift/separeret</td>\n",
       "      <td>2020K1</td>\n",
       "      <td>7290</td>\n",
       "    </tr>\n",
       "    <tr>\n",
       "      <td>296</td>\n",
       "      <td>Vallensbæk</td>\n",
       "      <td>I alt</td>\n",
       "      <td>Fraskilt</td>\n",
       "      <td>2008K1</td>\n",
       "      <td>889</td>\n",
       "    </tr>\n",
       "    <tr>\n",
       "      <td>297</td>\n",
       "      <td>Vallensbæk</td>\n",
       "      <td>I alt</td>\n",
       "      <td>Fraskilt</td>\n",
       "      <td>2020K1</td>\n",
       "      <td>1277</td>\n",
       "    </tr>\n",
       "    <tr>\n",
       "      <td>298</td>\n",
       "      <td>Vallensbæk</td>\n",
       "      <td>I alt</td>\n",
       "      <td>Enke/enkemand</td>\n",
       "      <td>2008K1</td>\n",
       "      <td>566</td>\n",
       "    </tr>\n",
       "    <tr>\n",
       "      <td>299</td>\n",
       "      <td>Vallensbæk</td>\n",
       "      <td>I alt</td>\n",
       "      <td>Enke/enkemand</td>\n",
       "      <td>2020K1</td>\n",
       "      <td>712</td>\n",
       "    </tr>\n",
       "  </tbody>\n",
       "</table>\n",
       "<p>300 rows × 5 columns</p>\n",
       "</div>"
      ],
      "text/plain": [
       "         OMRÅDE    KØN      CIVILSTAND     TID  INDHOLD\n",
       "0        Dragør   Mænd           I alt  2008K1     6475\n",
       "1        Dragør   Mænd           I alt  2020K1     7122\n",
       "2        Dragør   Mænd           Ugift  2008K1     2619\n",
       "3        Dragør   Mænd           Ugift  2020K1     3097\n",
       "4        Dragør   Mænd  Gift/separeret  2008K1     3269\n",
       "..          ...    ...             ...     ...      ...\n",
       "295  Vallensbæk  I alt  Gift/separeret  2020K1     7290\n",
       "296  Vallensbæk  I alt        Fraskilt  2008K1      889\n",
       "297  Vallensbæk  I alt        Fraskilt  2020K1     1277\n",
       "298  Vallensbæk  I alt   Enke/enkemand  2008K1      566\n",
       "299  Vallensbæk  I alt   Enke/enkemand  2020K1      712\n",
       "\n",
       "[300 rows x 5 columns]"
      ]
     },
     "execution_count": 57,
     "metadata": {},
     "output_type": "execute_result"
    }
   ],
   "source": [
    "df"
   ]
  },
  {
   "cell_type": "code",
   "execution_count": 10,
   "metadata": {},
   "outputs": [],
   "source": [
    "#Which of the 5 biggest cities has the highest percentage of 'Never Married'?\n",
    "never_married = df.loc[(df['KØN']=='I alt') & (df['CIVILSTAND']=='Ugift') & (df['TID']=='2020K1')].tail()\n",
    "all = df.loc[(df['KØN']=='I alt') & (df['CIVILSTAND']=='I alt') & (df['TID']=='2020K1')].tail()\n",
    "for index, not_married in never_married.iterrows():\n",
    "    pct = (100 / all.loc[all['OMRÅDE'] == not_married['OMRÅDE']]['INDHOLD']) * not_married['INDHOLD']\n",
    "    #print(not_married['OMRÅDE'], pct)"
   ]
  },
  {
   "cell_type": "code",
   "execution_count": 52,
   "metadata": {},
   "outputs": [
    {
     "data": {
      "image/png": "[encoded data removed]",
      "text/plain": [
       "<Figure size 432x288 with 1 Axes>"
      ]
     },
     "metadata": {
      "needs_background": "light"
     },
     "output_type": "display_data"
    }
   ],
   "source": [
    "#Show a bar chart of changes in marrital status in Copenhagen from 2008 till now\n",
    "df2 = pd.read_csv('https://api.statbank.dk/v1/data/FOLK1A/CSV?delimiter=Semicolon&Tid=2008K1%2C2009K1%2C2010K1%2C2011K1%2C2012K1%2C2013K1%2C2014K1%2C2015K1%2C2016K1%2C2017K1%2C2018K1%2C2019K1%2C2020K1&CIVILSTAND=U%2CG%2CE%2CF', delimiter=';')\n",
    "years = np.unique(df2['TID'])\n",
    "years_indices = np.arange(len(years))\n",
    "width = 0.20\n",
    "divorced = df2.loc[(df2['CIVILSTAND'] == 'Fraskilt')].sort_values('TID')['INDHOLD'].values.tolist()\n",
    "married = df2.loc[(df2['CIVILSTAND'] == 'Gift/separeret')].sort_values('TID')['INDHOLD'].values.tolist()\n",
    "enke = df2.loc[(df2['CIVILSTAND'] == 'Enke/enkemand')].sort_values('TID')['INDHOLD'].values.tolist()\n",
    "not_married = df2.loc[(df2['CIVILSTAND'] == 'Ugift')].sort_values('TID')['INDHOLD'].values.tolist()\n",
    "\n",
    "plt.bar(years_indices - width, not_married, width=width, label=\"Ugift\")\n",
    "plt.bar(years_indices, married, width=width, label=\"Gift/separeret\")\n",
    "plt.bar(years_indices + width, divorced, width=width, label=\"Fraskilt\")\n",
    "plt.bar(years_indices + (width * 2), enke, width=width, label=\"Enke/enkemand\")\n",
    "\n",
    "plt.xticks(ticks=years_indices, labels=years, rotation=\"vertical\")\n",
    "plt.legend()\n",
    "plt.title(\"Changes in marrital status in Copenhagen from 2008 till now\")\n",
    "plt.xlabel(\"Years\")\n",
    "plt.ylabel(\"People\")\n",
    "\n",
    "plt.tight_layout()\n",
    "\n",
    "plt.show()\n"
   ]
  },
  {
   "cell_type": "code",
   "execution_count": 68,
   "metadata": {},
   "outputs": [
    {
     "data": {
      "image/png": "[encoded data removed]",
      "text/plain": [
       "<Figure size 432x288 with 1 Axes>"
      ]
     },
     "metadata": {
      "needs_background": "light"
     },
     "output_type": "display_data"
    }
   ],
   "source": [
    "#Show a bar chart of 'Married' and 'Never Married' for all ages in DK (Hint: 2 bars of different color)\n",
    "df3 = pd.read_csv('https://api.statbank.dk/v1/data/FOLK1A/CSV?ALDER=*&CIVILSTAND=G%2CU', delimiter=';')\n",
    "married = df3.loc[(df3['ALDER'] != 'I alt') & (df3['CIVILSTAND'] == 'Gift/separeret')]['INDHOLD']\n",
    "never_married = df3.loc[(df3['ALDER'] != 'I alt') & (df3['CIVILSTAND'] == 'Ugift')]['INDHOLD']\n",
    "\n",
    "ages = np.arange(0, 126)\n",
    "width = 0.2\n",
    "plt.bar(ages - width, married, width=width, label=\"Gift/separeret\")\n",
    "plt.bar(ages, never_married, width=width, label=\"Ugift\")\n",
    "\n",
    "#this shows all the ages, but it won't be that readable on jupyter notebook..\n",
    "#plt.xticks(ticks=ages, labels=[n for n in range(0, 126)], rotation=\"vertical\")\n",
    "\n",
    "plt.title(\"Bar chart of 'Married' and 'Never Married' for all ages in DK\")\n",
    "plt.xlabel(\"Ages\")\n",
    "plt.ylabel(\"People\")\n",
    "\n",
    "\n",
    "\n",
    "plt.show()"
   ]
  },
  {
   "cell_type": "code",
   "execution_count": null,
   "metadata": {},
   "outputs": [],
   "source": []
  }
 ],
 "metadata": {
  "kernelspec": {
   "display_name": "Python 3",
   "language": "python",
   "name": "python3"
  },
  "language_info": {
   "codemirror_mode": {
    "name": "ipython",
    "version": 3
   },
   "file_extension": ".py",
   "mimetype": "text/x-python",
   "name": "python",
   "nbconvert_exporter": "python",
   "pygments_lexer": "ipython3",
   "version": "3.7.4"
  }
 },
 "nbformat": 4,
 "nbformat_minor": 2
}
